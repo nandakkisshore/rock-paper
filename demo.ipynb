{
 "cells": [
  {
   "cell_type": "code",
   "execution_count": 2,
   "metadata": {},
   "outputs": [
    {
     "name": "stdout",
     "output_type": "stream",
     "text": [
      "computer chooses:  rock\n",
      "Invalid choice. Please try again.\n",
      "Your Score:  0\n",
      "Computer Score:  0\n",
      "computer chooses:  rock\n",
      "Invalid choice. Please try again.\n",
      "Your Score:  0\n",
      "Computer Score:  0\n",
      "computer chooses:  rock\n",
      "It's a tie!\n",
      "Your Score:  0\n",
      "Computer Score:  0\n",
      "computer chooses:  rock\n",
      "computer wins!\n",
      "Your Score:  0\n",
      "Computer Score:  1\n",
      "computer chooses:  rock\n",
      "user wins!\n",
      "Your Score:  1\n",
      "Computer Score:  1\n",
      "Thanks for playing!\n"
     ]
    }
   ],
   "source": [
    "import random\n",
    "def compare(user_choice, computer_choice):\n",
    "    if user_choice == computer_choice:\n",
    "        return \"It's a tie!\"\n",
    "    elif user_choice == \"rock\":\n",
    "        if computer_choice == \"scissors\":\n",
    "            return \"user wins!\"\n",
    "        else:\n",
    "            return \"computer wins!\"\n",
    "    elif user_choice == \"scissors\":\n",
    "        if computer_choice == \"paper\":\n",
    "            return \"user_choice wins!\"\n",
    "        else:\n",
    "            return \"computer wins!\"\n",
    "    elif user_choice == \"paper\":\n",
    "        if computer_choice == \"rock\":\n",
    "            return \"user wins!\"\n",
    "        else:\n",
    "            return \"computer wins!\"\n",
    "    else:\n",
    "        return \"Invalid choice. Please try again.\"\n",
    "\n",
    "def play_round():\n",
    "    user_choice=input(\"choose rock or paper or scissors: \").lower()\n",
    "    computer_choice=random.choice([\"rock\",\"paper\",\"scissors\"])\n",
    "    print(\"computer chooses: \", computer_choice)\n",
    "    result= compare(user_choice, computer_choice)\n",
    "    print(result)\n",
    "    return result\n",
    "def play_game():\n",
    "    user_score=0\n",
    "    computer_score=0\n",
    "    while True:\n",
    "        result=play_round()\n",
    "        if \"user wins\" in result:\n",
    "            user_score += 1\n",
    "        elif \"computer wins\" in result:\n",
    "            computer_score += 1\n",
    "        print(\"Your Score: \", user_score)\n",
    "        print(\"Computer Score: \", computer_score)\n",
    "        play_again=input(\"Do you wanna play again? (yes/no): \").lower()\n",
    "        if play_again!=\"yes\":\n",
    "            print(\"Thanks for playing!\")\n",
    "            break\n",
    "play_game()\n",
    "\n",
    "    \n"
   ]
  },
  {
   "cell_type": "code",
   "execution_count": null,
   "metadata": {},
   "outputs": [],
   "source": []
  }
 ],
 "metadata": {
  "kernelspec": {
   "display_name": "Python 3",
   "language": "python",
   "name": "python3"
  },
  "language_info": {
   "codemirror_mode": {
    "name": "ipython",
    "version": 3
   },
   "file_extension": ".py",
   "mimetype": "text/x-python",
   "name": "python",
   "nbconvert_exporter": "python",
   "pygments_lexer": "ipython3",
   "version": "3.12.0"
  },
  "orig_nbformat": 4
 },
 "nbformat": 4,
 "nbformat_minor": 2
}
